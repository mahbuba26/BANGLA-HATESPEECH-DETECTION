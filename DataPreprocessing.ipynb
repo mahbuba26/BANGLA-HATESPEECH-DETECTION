{
 "cells": [
  {
   "cell_type": "code",
   "execution_count": null,
   "id": "8db1af0d",
   "metadata": {},
   "outputs": [],
   "source": [
    "!pip install googletrans==4.0.0-rc1"
   ]
  },
  {
   "cell_type": "code",
   "execution_count": 1,
   "id": "f50cb74e",
   "metadata": {},
   "outputs": [],
   "source": [
    "import pandas as pd\n",
    "import numpy as nm\n",
    "import googletrans\n",
    "import time\n",
    "from googletrans import Translator\n",
    "from collections import Counter\n",
    "from sklearn.model_selection import train_test_split as tts"
   ]
  },
  {
   "cell_type": "markdown",
   "id": "3f5e177b",
   "metadata": {},
   "source": [
    "**DATASET**"
   ]
  },
  {
   "cell_type": "code",
   "execution_count": 2,
   "id": "a3481742",
   "metadata": {},
   "outputs": [],
   "source": [
    "df = pd.read_csv(\"dataset.csv\")"
   ]
  },
  {
   "cell_type": "code",
   "execution_count": 3,
   "id": "adf2d06a",
   "metadata": {},
   "outputs": [
    {
     "data": {
      "text/html": [
       "<div>\n",
       "<style scoped>\n",
       "    .dataframe tbody tr th:only-of-type {\n",
       "        vertical-align: middle;\n",
       "    }\n",
       "\n",
       "    .dataframe tbody tr th {\n",
       "        vertical-align: top;\n",
       "    }\n",
       "\n",
       "    .dataframe thead th {\n",
       "        text-align: right;\n",
       "    }\n",
       "</style>\n",
       "<table border=\"1\" class=\"dataframe\">\n",
       "  <thead>\n",
       "    <tr style=\"text-align: right;\">\n",
       "      <th></th>\n",
       "      <th>comment</th>\n",
       "      <th>Category</th>\n",
       "      <th>Gender</th>\n",
       "      <th>comment react number</th>\n",
       "      <th>label</th>\n",
       "    </tr>\n",
       "  </thead>\n",
       "  <tbody>\n",
       "    <tr>\n",
       "      <th>0</th>\n",
       "      <td>ওই হালার পুত এখন কি মদ খাওয়ার সময় রাতের বেলা...</td>\n",
       "      <td>Actor</td>\n",
       "      <td>Female</td>\n",
       "      <td>1.0</td>\n",
       "      <td>sexual</td>\n",
       "    </tr>\n",
       "    <tr>\n",
       "      <th>1</th>\n",
       "      <td>ঘরে বসে শুট করতে কেমন লেগেছে? ক্যামেরাতে কে ছি...</td>\n",
       "      <td>Singer</td>\n",
       "      <td>Male</td>\n",
       "      <td>2.0</td>\n",
       "      <td>not bully</td>\n",
       "    </tr>\n",
       "    <tr>\n",
       "      <th>2</th>\n",
       "      <td>অরে বাবা, এই টা কোন পাগল????</td>\n",
       "      <td>Actor</td>\n",
       "      <td>Female</td>\n",
       "      <td>2.0</td>\n",
       "      <td>not bully</td>\n",
       "    </tr>\n",
       "    <tr>\n",
       "      <th>3</th>\n",
       "      <td>ক্যাপ্টেন অফ বাংলাদেশ</td>\n",
       "      <td>Sports</td>\n",
       "      <td>Male</td>\n",
       "      <td>0.0</td>\n",
       "      <td>not bully</td>\n",
       "    </tr>\n",
       "    <tr>\n",
       "      <th>4</th>\n",
       "      <td>পটকা মাছ</td>\n",
       "      <td>Politician</td>\n",
       "      <td>Male</td>\n",
       "      <td>0.0</td>\n",
       "      <td>troll</td>\n",
       "    </tr>\n",
       "    <tr>\n",
       "      <th>...</th>\n",
       "      <td>...</td>\n",
       "      <td>...</td>\n",
       "      <td>...</td>\n",
       "      <td>...</td>\n",
       "      <td>...</td>\n",
       "    </tr>\n",
       "    <tr>\n",
       "      <th>43996</th>\n",
       "      <td>হিরো আলম,, এগিয়ে যাও</td>\n",
       "      <td>Social</td>\n",
       "      <td>Male</td>\n",
       "      <td>0.0</td>\n",
       "      <td>not bully</td>\n",
       "    </tr>\n",
       "    <tr>\n",
       "      <th>43997</th>\n",
       "      <td>হিরো আলমকে সাপোর্ট দেওয়ার জন্য অসংখ্য ধন্যবাদ...</td>\n",
       "      <td>Social</td>\n",
       "      <td>Male</td>\n",
       "      <td>1.0</td>\n",
       "      <td>not bully</td>\n",
       "    </tr>\n",
       "    <tr>\n",
       "      <th>43998</th>\n",
       "      <td>হিরো ভাই তুমি এগিয়ে য়াও</td>\n",
       "      <td>Social</td>\n",
       "      <td>Male</td>\n",
       "      <td>0.0</td>\n",
       "      <td>not bully</td>\n",
       "    </tr>\n",
       "    <tr>\n",
       "      <th>43999</th>\n",
       "      <td>হুম ভাও তোমরা এগিয়ে যাও আমরা তোমাদের পিছনে আছি</td>\n",
       "      <td>Actor</td>\n",
       "      <td>Female</td>\n",
       "      <td>1.0</td>\n",
       "      <td>not bully</td>\n",
       "    </tr>\n",
       "    <tr>\n",
       "      <th>44000</th>\n",
       "      <td>হ্যালো তোমাদের সাথে কি আমাকে চ্যাট করবে</td>\n",
       "      <td>Social</td>\n",
       "      <td>Male</td>\n",
       "      <td>0.0</td>\n",
       "      <td>not bully</td>\n",
       "    </tr>\n",
       "  </tbody>\n",
       "</table>\n",
       "<p>44001 rows × 5 columns</p>\n",
       "</div>"
      ],
      "text/plain": [
       "                                                 comment    Category  Gender  \\\n",
       "0      ওই হালার পুত এখন কি মদ খাওয়ার সময় রাতের বেলা...       Actor  Female   \n",
       "1      ঘরে বসে শুট করতে কেমন লেগেছে? ক্যামেরাতে কে ছি...      Singer    Male   \n",
       "2                           অরে বাবা, এই টা কোন পাগল????       Actor  Female   \n",
       "3                                  ক্যাপ্টেন অফ বাংলাদেশ      Sports    Male   \n",
       "4                                               পটকা মাছ  Politician    Male   \n",
       "...                                                  ...         ...     ...   \n",
       "43996                               হিরো আলম,, এগিয়ে যাও      Social    Male   \n",
       "43997  হিরো আলমকে সাপোর্ট দেওয়ার জন্য অসংখ্য ধন্যবাদ...      Social    Male   \n",
       "43998                            হিরো ভাই তুমি এগিয়ে য়াও      Social    Male   \n",
       "43999     হুম ভাও তোমরা এগিয়ে যাও আমরা তোমাদের পিছনে আছি       Actor  Female   \n",
       "44000            হ্যালো তোমাদের সাথে কি আমাকে চ্যাট করবে      Social    Male   \n",
       "\n",
       "       comment react number      label  \n",
       "0                       1.0     sexual  \n",
       "1                       2.0  not bully  \n",
       "2                       2.0  not bully  \n",
       "3                       0.0  not bully  \n",
       "4                       0.0      troll  \n",
       "...                     ...        ...  \n",
       "43996                   0.0  not bully  \n",
       "43997                   1.0  not bully  \n",
       "43998                   0.0  not bully  \n",
       "43999                   1.0  not bully  \n",
       "44000                   0.0  not bully  \n",
       "\n",
       "[44001 rows x 5 columns]"
      ]
     },
     "execution_count": 3,
     "metadata": {},
     "output_type": "execute_result"
    }
   ],
   "source": [
    "df"
   ]
  },
  {
   "cell_type": "code",
   "execution_count": 5,
   "id": "971b389f",
   "metadata": {},
   "outputs": [
    {
     "data": {
      "text/plain": [
       "not bully    15340\n",
       "troll        10462\n",
       "sexual        8928\n",
       "religious     7577\n",
       "threat        1694\n",
       "Name: label, dtype: int64"
      ]
     },
     "execution_count": 5,
     "metadata": {},
     "output_type": "execute_result"
    }
   ],
   "source": [
    "df['label'].value_counts()"
   ]
  },
  {
   "cell_type": "code",
   "execution_count": 6,
   "id": "d1546913",
   "metadata": {},
   "outputs": [],
   "source": [
    "#mapping dictionary for label mapping\n",
    "mapping = {\n",
    "    'not bully': 1, \n",
    "    'troll': 2, \n",
    "    'sexual': 3, \n",
    "    'religious': 4, \n",
    "    'threat': 5\n",
    "}"
   ]
  },
  {
   "cell_type": "code",
   "execution_count": 8,
   "id": "906844d3",
   "metadata": {},
   "outputs": [
    {
     "data": {
      "text/html": [
       "<div>\n",
       "<style scoped>\n",
       "    .dataframe tbody tr th:only-of-type {\n",
       "        vertical-align: middle;\n",
       "    }\n",
       "\n",
       "    .dataframe tbody tr th {\n",
       "        vertical-align: top;\n",
       "    }\n",
       "\n",
       "    .dataframe thead th {\n",
       "        text-align: right;\n",
       "    }\n",
       "</style>\n",
       "<table border=\"1\" class=\"dataframe\">\n",
       "  <thead>\n",
       "    <tr style=\"text-align: right;\">\n",
       "      <th></th>\n",
       "      <th>comment</th>\n",
       "      <th>Category</th>\n",
       "      <th>Gender</th>\n",
       "      <th>comment react number</th>\n",
       "      <th>label</th>\n",
       "      <th>nlabel</th>\n",
       "    </tr>\n",
       "  </thead>\n",
       "  <tbody>\n",
       "    <tr>\n",
       "      <th>0</th>\n",
       "      <td>ওই হালার পুত এখন কি মদ খাওয়ার সময় রাতের বেলা...</td>\n",
       "      <td>Actor</td>\n",
       "      <td>Female</td>\n",
       "      <td>1.0</td>\n",
       "      <td>sexual</td>\n",
       "      <td>3</td>\n",
       "    </tr>\n",
       "    <tr>\n",
       "      <th>1</th>\n",
       "      <td>ঘরে বসে শুট করতে কেমন লেগেছে? ক্যামেরাতে কে ছি...</td>\n",
       "      <td>Singer</td>\n",
       "      <td>Male</td>\n",
       "      <td>2.0</td>\n",
       "      <td>not bully</td>\n",
       "      <td>1</td>\n",
       "    </tr>\n",
       "    <tr>\n",
       "      <th>2</th>\n",
       "      <td>অরে বাবা, এই টা কোন পাগল????</td>\n",
       "      <td>Actor</td>\n",
       "      <td>Female</td>\n",
       "      <td>2.0</td>\n",
       "      <td>not bully</td>\n",
       "      <td>1</td>\n",
       "    </tr>\n",
       "    <tr>\n",
       "      <th>3</th>\n",
       "      <td>ক্যাপ্টেন অফ বাংলাদেশ</td>\n",
       "      <td>Sports</td>\n",
       "      <td>Male</td>\n",
       "      <td>0.0</td>\n",
       "      <td>not bully</td>\n",
       "      <td>1</td>\n",
       "    </tr>\n",
       "    <tr>\n",
       "      <th>4</th>\n",
       "      <td>পটকা মাছ</td>\n",
       "      <td>Politician</td>\n",
       "      <td>Male</td>\n",
       "      <td>0.0</td>\n",
       "      <td>troll</td>\n",
       "      <td>2</td>\n",
       "    </tr>\n",
       "    <tr>\n",
       "      <th>...</th>\n",
       "      <td>...</td>\n",
       "      <td>...</td>\n",
       "      <td>...</td>\n",
       "      <td>...</td>\n",
       "      <td>...</td>\n",
       "      <td>...</td>\n",
       "    </tr>\n",
       "    <tr>\n",
       "      <th>43996</th>\n",
       "      <td>হিরো আলম,, এগিয়ে যাও</td>\n",
       "      <td>Social</td>\n",
       "      <td>Male</td>\n",
       "      <td>0.0</td>\n",
       "      <td>not bully</td>\n",
       "      <td>1</td>\n",
       "    </tr>\n",
       "    <tr>\n",
       "      <th>43997</th>\n",
       "      <td>হিরো আলমকে সাপোর্ট দেওয়ার জন্য অসংখ্য ধন্যবাদ...</td>\n",
       "      <td>Social</td>\n",
       "      <td>Male</td>\n",
       "      <td>1.0</td>\n",
       "      <td>not bully</td>\n",
       "      <td>1</td>\n",
       "    </tr>\n",
       "    <tr>\n",
       "      <th>43998</th>\n",
       "      <td>হিরো ভাই তুমি এগিয়ে য়াও</td>\n",
       "      <td>Social</td>\n",
       "      <td>Male</td>\n",
       "      <td>0.0</td>\n",
       "      <td>not bully</td>\n",
       "      <td>1</td>\n",
       "    </tr>\n",
       "    <tr>\n",
       "      <th>43999</th>\n",
       "      <td>হুম ভাও তোমরা এগিয়ে যাও আমরা তোমাদের পিছনে আছি</td>\n",
       "      <td>Actor</td>\n",
       "      <td>Female</td>\n",
       "      <td>1.0</td>\n",
       "      <td>not bully</td>\n",
       "      <td>1</td>\n",
       "    </tr>\n",
       "    <tr>\n",
       "      <th>44000</th>\n",
       "      <td>হ্যালো তোমাদের সাথে কি আমাকে চ্যাট করবে</td>\n",
       "      <td>Social</td>\n",
       "      <td>Male</td>\n",
       "      <td>0.0</td>\n",
       "      <td>not bully</td>\n",
       "      <td>1</td>\n",
       "    </tr>\n",
       "  </tbody>\n",
       "</table>\n",
       "<p>44001 rows × 6 columns</p>\n",
       "</div>"
      ],
      "text/plain": [
       "                                                 comment    Category  Gender  \\\n",
       "0      ওই হালার পুত এখন কি মদ খাওয়ার সময় রাতের বেলা...       Actor  Female   \n",
       "1      ঘরে বসে শুট করতে কেমন লেগেছে? ক্যামেরাতে কে ছি...      Singer    Male   \n",
       "2                           অরে বাবা, এই টা কোন পাগল????       Actor  Female   \n",
       "3                                  ক্যাপ্টেন অফ বাংলাদেশ      Sports    Male   \n",
       "4                                               পটকা মাছ  Politician    Male   \n",
       "...                                                  ...         ...     ...   \n",
       "43996                               হিরো আলম,, এগিয়ে যাও      Social    Male   \n",
       "43997  হিরো আলমকে সাপোর্ট দেওয়ার জন্য অসংখ্য ধন্যবাদ...      Social    Male   \n",
       "43998                            হিরো ভাই তুমি এগিয়ে য়াও      Social    Male   \n",
       "43999     হুম ভাও তোমরা এগিয়ে যাও আমরা তোমাদের পিছনে আছি       Actor  Female   \n",
       "44000            হ্যালো তোমাদের সাথে কি আমাকে চ্যাট করবে      Social    Male   \n",
       "\n",
       "       comment react number      label  nlabel  \n",
       "0                       1.0     sexual       3  \n",
       "1                       2.0  not bully       1  \n",
       "2                       2.0  not bully       1  \n",
       "3                       0.0  not bully       1  \n",
       "4                       0.0      troll       2  \n",
       "...                     ...        ...     ...  \n",
       "43996                   0.0  not bully       1  \n",
       "43997                   1.0  not bully       1  \n",
       "43998                   0.0  not bully       1  \n",
       "43999                   1.0  not bully       1  \n",
       "44000                   0.0  not bully       1  \n",
       "\n",
       "[44001 rows x 6 columns]"
      ]
     },
     "execution_count": 8,
     "metadata": {},
     "output_type": "execute_result"
    }
   ],
   "source": [
    "#adding new column with the mapped values\n",
    "df['nlabel'] = df['label'].map(mapping)\n",
    "df"
   ]
  },
  {
   "cell_type": "markdown",
   "id": "d55db291",
   "metadata": {},
   "source": [
    "**SPLITING**"
   ]
  },
  {
   "cell_type": "code",
   "execution_count": 9,
   "id": "55253069",
   "metadata": {},
   "outputs": [],
   "source": [
    "#splitting the dataframe\n",
    "train, test = tts(df, test_size = 0.2, stratify = df['nlabel'], random_state = 42)"
   ]
  },
  {
   "cell_type": "code",
   "execution_count": 10,
   "id": "65971e8c",
   "metadata": {},
   "outputs": [
    {
     "data": {
      "text/plain": [
       "not bully    3068\n",
       "troll        2093\n",
       "sexual       1786\n",
       "religious    1515\n",
       "threat        339\n",
       "Name: label, dtype: int64"
      ]
     },
     "execution_count": 10,
     "metadata": {},
     "output_type": "execute_result"
    }
   ],
   "source": [
    "test['label'].value_counts()"
   ]
  },
  {
   "cell_type": "code",
   "execution_count": 11,
   "id": "45e53433",
   "metadata": {},
   "outputs": [],
   "source": [
    "train.to_csv('train_dataset.csv', index = False)\n",
    "test.to_csv('test_dataset.csv', index = False)"
   ]
  },
  {
   "cell_type": "markdown",
   "id": "add70d20",
   "metadata": {},
   "source": [
    "**First preprocessing**"
   ]
  },
  {
   "cell_type": "code",
   "execution_count": null,
   "id": "640ea469",
   "metadata": {},
   "outputs": [],
   "source": [
    "train_df = pd.read_csv(\"train_dataset.csv\")\n",
    "test_df = pd.read_csv(\"test_dataset.csv\")"
   ]
  },
  {
   "cell_type": "code",
   "execution_count": null,
   "id": "1e4d4fe4",
   "metadata": {},
   "outputs": [],
   "source": [
    "#remove emojis, special character, extra spaces, but keep the esterics \"*\", as they hold special meaning in our dataset\n",
    "\n",
    "# Function to clean Bangla text, keep '*', Bangla punctuations, and remove extra spaces\n",
    "def clean_bangla_text(text):\n",
    "    # Ensure input is a string\n",
    "    if not isinstance(text, str):\n",
    "        return text\n",
    "\n",
    "    # Remove emojis\n",
    "    emoji_pattern = re.compile(\n",
    "        \"[\"\n",
    "        u\"\\U0001F600-\\U0001F64F\"  # Emoticons\n",
    "        u\"\\U0001F300-\\U0001F5FF\"  # Symbols & pictographs\n",
    "        u\"\\U0001F680-\\U0001F6FF\"  # Transport & map symbols\n",
    "        u\"\\U0001F700-\\U0001F77F\"  # Alchemical symbols\n",
    "        u\"\\U0001F780-\\U0001F7FF\"  # Geometric shapes extended\n",
    "        u\"\\U0001F800-\\U0001F8FF\"  # Supplemental arrows-C\n",
    "        u\"\\U0001F900-\\U0001F9FF\"  # Supplemental symbols and pictographs\n",
    "        u\"\\U0001FA00-\\U0001FA6F\"  # Chess symbols\n",
    "        u\"\\U0001FA70-\\U0001FAFF\"  # Symbols and pictographs extended-A\n",
    "        u\"\\U00002702-\\U000027B0\"  # Dingbats\n",
    "        u\"\\U000024C2-\\U0001F251\"  # Enclosed characters\n",
    "        \"]+\", flags=re.UNICODE\n",
    "    )\n",
    "    text = emoji_pattern.sub(\" \", text)\n",
    "\n",
    "    # Remove unwanted special characters but keep Bangla text, digits, punctuations, spaces, commas, and '*'\n",
    "    bangla_pattern = r\"[^\\u0980-\\u09FF\\u0964\\u0965a-zA-Z0-9 ,।॥*.?]\"\n",
    "    text = re.sub(bangla_pattern, \" \", text)\n",
    "\n",
    "    # Normalize spaces (remove extra spaces)\n",
    "    text = \" \".join(text.split())\n",
    "\n",
    "    return text"
   ]
  },
  {
   "cell_type": "code",
   "execution_count": null,
   "id": "35461009",
   "metadata": {},
   "outputs": [],
   "source": [
    "# Apply the cleaning function to the training dataset\n",
    "cleaned_train_df = train_df.copy()  # Create a copy of the original dataset\n",
    "for column in cleaned_train_df.select_dtypes(include=['object']).columns:\n",
    "    cleaned_train_df[column] = cleaned_train_df[column].apply(clean_bangla_text)"
   ]
  },
  {
   "cell_type": "code",
   "execution_count": null,
   "id": "cbfa207a",
   "metadata": {},
   "outputs": [],
   "source": [
    "# Apply the cleaning function to the testing dataset\n",
    "cleaned_test_df = test_df.copy()  # Create a copy of the original dataset\n",
    "for column in cleaned_test_df.select_dtypes(include=['object']).columns:\n",
    "    cleaned_test_df[column] = cleaned_test_df[column].apply(clean_bangla_text)"
   ]
  },
  {
   "cell_type": "code",
   "execution_count": null,
   "id": "4d0f5e4a",
   "metadata": {},
   "outputs": [],
   "source": [
    "cleaned_train_df"
   ]
  },
  {
   "cell_type": "markdown",
   "id": "d01e538b",
   "metadata": {},
   "source": [
    "**Multiclass to Binaryclass**"
   ]
  },
  {
   "cell_type": "code",
   "execution_count": null,
   "id": "22e387f4",
   "metadata": {},
   "outputs": [],
   "source": [
    "# create binary label\n",
    "cleaned_train_df['nlabel'] = train_df['nlabel'].replace([3, 4, 5], 2)\n",
    "cleaned_test_df['nlabel'] = train_df['nlabel'].replace([3, 4, 5], 2)"
   ]
  },
  {
   "cell_type": "code",
   "execution_count": null,
   "id": "fc2959c8",
   "metadata": {},
   "outputs": [],
   "source": [
    "# save the updated dataset\n",
    "cleaned_train_df.to_csv('cleaned_train_df.csv', index=False)\n",
    "cleaned_test_df.to_csv('cleaned_test_df.csv', index=False)"
   ]
  },
  {
   "cell_type": "markdown",
   "id": "7b08ce6c",
   "metadata": {},
   "source": [
    "**Augmentation on Train Set by Back Translation**"
   ]
  },
  {
   "cell_type": "code",
   "execution_count": null,
   "id": "715bf2b2",
   "metadata": {},
   "outputs": [],
   "source": [
    "print(googletrans.__version__)  # Should print '4.0.0-rc1'"
   ]
  },
  {
   "cell_type": "code",
   "execution_count": null,
   "id": "0538b523",
   "metadata": {},
   "outputs": [],
   "source": [
    "df = pd.read_csv(\"cleaned_train_df.csv\")\n",
    "temp = df[df['nlabel'] == 1]"
   ]
  },
  {
   "cell_type": "code",
   "execution_count": null,
   "id": "eec813ea",
   "metadata": {},
   "outputs": [],
   "source": [
    "# Initialize the translator\n",
    "translator = Translator()\n",
    "\n",
    "# Define a function for back-translation\n",
    "def back_translate(text, src_lang='bn', target_lang='en'):\n",
    "    try:\n",
    "        # Translate to target language (e.g., English)\n",
    "        translated = translator.translate(text, src=src_lang, dest=target_lang).text\n",
    "        # Translate back to source language (e.g., Bangla)\n",
    "        back_translated = translator.translate(translated, src=target_lang, dest=src_lang).text\n",
    "        return back_translated\n",
    "    except Exception as e:\n",
    "        print(f\"Error during translation: {e}\")\n",
    "        return text  # Return original text in case of an error\n",
    "\n",
    "# Process only a subset of the dataset\n",
    "batch_size = 50  # Number of rows to process in each batch\n",
    "temp['backtranslated'] = None  # Add a new column for back-translated text\n",
    "\n",
    "for i in range(0, len(temp), batch_size):\n",
    "    batch = temp.iloc[i:i+batch_size]\n",
    "    print(f\"Processing batch {i // batch_size + 1}\")\n",
    "    \n",
    "    for index, row in batch.iterrows():\n",
    "        temp.at[index, 'backtranslated'] = back_translate(row['comment'])  # Back-translate column 'a'\n",
    "    \n",
    "    # Delay between batches to avoid throttling\n",
    "    time.sleep(5)  # Adjust the sleep time based on the API's rate limit"
   ]
  },
  {
   "cell_type": "code",
   "execution_count": null,
   "id": "7568ba01",
   "metadata": {},
   "outputs": [],
   "source": [
    "# Replace 'comment' column with 'back_translated_comment'\n",
    "temp['comment'] = temp['backtranslated']\n",
    "\n",
    "# Drop the 'back_translated_comment' column\n",
    "temp = temp.drop(columns=['backtranslated'])"
   ]
  },
  {
   "cell_type": "code",
   "execution_count": null,
   "id": "629da562",
   "metadata": {},
   "outputs": [],
   "source": [
    "concatenated_df = pd.concat([df, temp], ignore_index=True)  # `ignore_index=True` reindexes the rows\n",
    "concatenated_df"
   ]
  },
  {
   "cell_type": "code",
   "execution_count": null,
   "id": "4d0739af",
   "metadata": {},
   "outputs": [],
   "source": [
    "concatenated_df['nlabel'].value_counts()"
   ]
  },
  {
   "cell_type": "code",
   "execution_count": null,
   "id": "00f913fb",
   "metadata": {},
   "outputs": [],
   "source": [
    "concatenated_df.to_csv(\"augmented_training_set.csv\", index=False)"
   ]
  },
  {
   "cell_type": "markdown",
   "id": "4a2d5cfb",
   "metadata": {},
   "source": [
    "**Final Preprocessing - removing stopwords, keeping only comments and nlabel**"
   ]
  },
  {
   "cell_type": "markdown",
   "id": "09e62d3b",
   "metadata": {},
   "source": [
    "Stopword link\n",
    "https://www.kaggle.com/datasets/shohanursobuj/bangla-stopwords\n",
    "https://github.com/stopwords-iso/stopwords-bn/blob/master/stopwords-bn.txt"
   ]
  },
  {
   "cell_type": "code",
   "execution_count": null,
   "id": "dd197076",
   "metadata": {},
   "outputs": [],
   "source": [
    "df = pd.read_csv(\"augmented_training_set.csv\")"
   ]
  },
  {
   "cell_type": "code",
   "execution_count": null,
   "id": "451b8fa9",
   "metadata": {},
   "outputs": [],
   "source": [
    "# Load Bangla stopwords from the .txt file\n",
    "with open(\"stopwords-bn.txt\", encoding=\"utf-8\") as f:\n",
    "    bangla_stopwords = set(f.read().splitlines())\n",
    "\n",
    "# Function to remove Bangla stopwords\n",
    "def remove_bangla_stopwords(text):\n",
    "    words = text.split()  # Tokenize by splitting on whitespace\n",
    "    filtered_words = [word for word in words if word not in bangla_stopwords]\n",
    "    return \" \".join(filtered_words)\n",
    "\n",
    "# Apply the function to the text column\n",
    "df['cleaned_comment'] = df['comment'].apply(remove_bangla_stopwords)\n",
    "\n",
    "\n",
    "\n",
    "stopwords_df = pd.read_excel(\"bangla_stopwords.xlsx\")  # Assuming no header in the Excel file\n",
    "bangla_stopwords = set(stopwords_df[\"word_list\"])  # Extract the first column as a set of stopwords\n",
    "bangla_stopwords\n",
    "\n",
    "# Function to remove Bangla stopwords\n",
    "def remove_bangla_stopwords(text):\n",
    "    words = text.split()  # Tokenize by splitting on whitespace\n",
    "    filtered_words = [word for word in words if word not in bangla_stopwords]\n",
    "    return \" \".join(filtered_words)\n",
    "\n",
    "# Apply the function to the text column\n",
    "df['cleaned_comment'] = df['cleaned_comment'].apply(remove_bangla_stopwords)"
   ]
  },
  {
   "cell_type": "code",
   "execution_count": null,
   "id": "75de9dad",
   "metadata": {},
   "outputs": [],
   "source": [
    "df['comment'].iloc[0]"
   ]
  },
  {
   "cell_type": "code",
   "execution_count": null,
   "id": "ec46c329",
   "metadata": {},
   "outputs": [],
   "source": [
    "df['cleaned_comment'].iloc[0]"
   ]
  },
  {
   "cell_type": "code",
   "execution_count": null,
   "id": "4bd4c1b6",
   "metadata": {},
   "outputs": [],
   "source": [
    "# Replace 'comment' column with 'back_translated_comment'\n",
    "df['comment'] = df['cleaned_comment']\n",
    "\n",
    "# Drop the 'back_translated_comment' column\n",
    "df = df.drop(columns=['cleaned_comment'])"
   ]
  },
  {
   "cell_type": "code",
   "execution_count": null,
   "id": "ba135bed",
   "metadata": {},
   "outputs": [],
   "source": [
    "df.to_csv(\"final_train_set.csv\", index = False)"
   ]
  },
  {
   "cell_type": "code",
   "execution_count": null,
   "id": "06d8d7ee",
   "metadata": {},
   "outputs": [],
   "source": [
    "df = pd.read_csv(\"test_dataset.csv\")\n",
    "\n",
    "# Load Bangla stopwords from the .txt file\n",
    "with open(\"stopwords-bn.txt\", encoding=\"utf-8\") as f:\n",
    "    bangla_stopwords = set(f.read().splitlines())\n",
    "\n",
    "# Function to remove Bangla stopwords\n",
    "def remove_bangla_stopwords(text):\n",
    "    words = text.split()  # Tokenize by splitting on whitespace\n",
    "    filtered_words = [word for word in words if word not in bangla_stopwords]\n",
    "    return \" \".join(filtered_words)\n",
    "\n",
    "# Apply the function to the text column\n",
    "df['cleaned_comment'] = df['comment'].apply(remove_bangla_stopwords)\n",
    "\n",
    "\n",
    "\n",
    "stopwords_df = pd.read_excel(\"bangla_stopwords.xlsx\")  # Assuming no header in the Excel file\n",
    "bangla_stopwords = set(stopwords_df[\"word_list\"])  # Extract the first column as a set of stopwords\n",
    "bangla_stopwords\n",
    "\n",
    "# Function to remove Bangla stopwords\n",
    "def remove_bangla_stopwords(text):\n",
    "    words = text.split()  # Tokenize by splitting on whitespace\n",
    "    filtered_words = [word for word in words if word not in bangla_stopwords]\n",
    "    return \" \".join(filtered_words)\n",
    "\n",
    "# Apply the function to the text column\n",
    "df['cleaned_comment'] = df['cleaned_comment'].apply(remove_bangla_stopwords)"
   ]
  },
  {
   "cell_type": "code",
   "execution_count": null,
   "id": "54b2f8ac",
   "metadata": {},
   "outputs": [],
   "source": [
    "df['comment'].iloc[0]"
   ]
  },
  {
   "cell_type": "code",
   "execution_count": null,
   "id": "3fbc8404",
   "metadata": {},
   "outputs": [],
   "source": [
    "df['cleaned_comment'].iloc[0]"
   ]
  },
  {
   "cell_type": "code",
   "execution_count": null,
   "id": "7b428ed3",
   "metadata": {},
   "outputs": [],
   "source": [
    "# Replace 'comment' column with 'back_translated_comment'\n",
    "df['comment'] = df['cleaned_comment']\n",
    "\n",
    "# Drop the 'back_translated_comment' column\n",
    "df = df.drop(columns=['cleaned_comment'])\n",
    "\n",
    "df = df.drop(columns=['Category', 'Gender', 'comment react number', 'label'])\n",
    "df.to_csv(\"final_test_set.csv\", index = False)"
   ]
  },
  {
   "cell_type": "markdown",
   "id": "80c38586",
   "metadata": {},
   "source": [
    "**Additional Preprocessing**"
   ]
  },
  {
   "cell_type": "code",
   "execution_count": null,
   "id": "60583818",
   "metadata": {},
   "outputs": [],
   "source": [
    "df = pd.read_csv(\"final_train_set.csv\")"
   ]
  },
  {
   "cell_type": "code",
   "execution_count": null,
   "id": "1c4ce3a5",
   "metadata": {},
   "outputs": [],
   "source": [
    "#Remove punctuations\n",
    "\n",
    "\n",
    "# List of Bangla punctuations\n",
    "bangla_punctuations = \"।!?,ঃ;‘’“”-()[]{}.…—!”#$%&’()*+,-./:;<=>?@[]^_`{|}~\"\n",
    "\n",
    "# Function to remove Bangla punctuations\n",
    "def remove_bangla_punctuations(text):\n",
    "    if isinstance(text, str):  # Ensure the input is valid text\n",
    "        return re.sub(f\"[{re.escape(bangla_punctuations)}]\", \" \", text)  # Remove all Bangla punctuations\n",
    "    return text  # Return as-is if the input is not text\n",
    "\n",
    "# Apply the function to the 'comment' column\n",
    "df['cleaned_comment'] = df['comment'].apply(remove_bangla_punctuations)\n",
    "\n",
    "# Display the updated DataFrame\n",
    "df\n"
   ]
  },
  {
   "cell_type": "code",
   "execution_count": null,
   "id": "556eaeeb",
   "metadata": {},
   "outputs": [],
   "source": [
    "#check for additional stopwords from our dataset\n",
    "\n",
    "# Ensure the 'comment' column has valid strings, replace NaN with an empty string\n",
    "df['comment'] = df['comment'].fillna('').astype(str)\n",
    "\n",
    "# Initialize counters\n",
    "all_word_counts = Counter()  # To count overall word frequency\n",
    "label_1_word_counts = Counter()  # To count word frequency in label 1\n",
    "label_2_word_counts = Counter()  # To count word frequency in label 2\n",
    "\n",
    "# Iterate over rows in the dataset\n",
    "for _, row in df.iterrows():\n",
    "    words = row['comment'].split()  # Split text into words (you may modify this to tokenize better)\n",
    "    all_word_counts.update(words)\n",
    "    if row['nlabel'] == 1:\n",
    "        label_1_word_counts.update(words)\n",
    "    elif row['nlabel'] == 2:\n",
    "        label_2_word_counts.update(words)\n",
    "\n",
    "# Create a DataFrame for the results\n",
    "output = pd.DataFrame({\n",
    "    'word': all_word_counts.keys(),\n",
    "    'total_count': all_word_counts.values(),\n",
    "    'label_1_count': [label_1_word_counts[word] for word in all_word_counts.keys()],\n",
    "    'label_2_count': [label_2_word_counts[word] for word in all_word_counts.keys()]\n",
    "})\n",
    "\n",
    "# Sort the DataFrame by total count in descending order\n",
    "output = output.sort_values(by='total_count', ascending=False).reset_index(drop=True)"
   ]
  },
  {
   "cell_type": "code",
   "execution_count": null,
   "id": "6e2d602e",
   "metadata": {},
   "outputs": [],
   "source": [
    "# Temporarily display all rows\n",
    "with pd.option_context('display.max_rows', None):\n",
    "    print(top_100_words)"
   ]
  },
  {
   "cell_type": "code",
   "execution_count": null,
   "id": "275256ee",
   "metadata": {},
   "outputs": [],
   "source": [
    "custom_stopwords = [\n",
    "    \"আমি\", \"তুমি\", \"সে\", \"এই\", \"ওই\", \"এবং\", \"তাহলে\", \"যখন\", \"কারণ\", \"কিন্তু\", \n",
    "    \"কিছু\", \"কেন\", \"আমাদের\", \"তাদের\", \"আপনার\", \"যে\", \"তা\", \"নেই\", \"হয়\", \"করতে\", \"যদি\", \"লোক\", \"সবাইকে\", \"কর\", \"আসলে\",\"লাগে\", \"টাকা\", \"দেখি\", \"করো\",\n",
    "    \"জাহিদ\", \"হবে\", \"করুক\", \"আপনারা\", \"আল্লাহ্\", \"তোকে\", \"এতো\", \"রে\", \"কেমন\", \"দিয়া\", \"তোরে\", \"করুন\", \"তুই\", \"একটু\", \"জায়েদ\", \n",
    "    \"যায়\", \"তোমাকে\", \"তর\", \"না\", \"খান\", \"আল্লাহর\", \"সাথে\", \"তোর\", \"আপনাকে\", \"আলম\", \"হিরো\", \"আল্লাহ\", \"যাহা\", \"হলেন\", \"নাহ\", \"নাই\" \n",
    "]"
   ]
  },
  {
   "cell_type": "code",
   "execution_count": null,
   "id": "ac741ef9",
   "metadata": {},
   "outputs": [],
   "source": [
    "# Function to remove stopwords from a sentence\n",
    "def remove_stopwords(text, stopwords):\n",
    "    if isinstance(text, str):  # Check if the input is valid text\n",
    "        words = text.split()  # Tokenize the sentence\n",
    "        filtered_words = [word for word in words if word not in stopwords]  # Remove stopwords\n",
    "        return ' '.join(filtered_words)  # Join the words back into a string\n",
    "    return text  # Return as is if it's not text\n",
    "\n",
    "# Apply the function to the 'comment' column\n",
    "df['cleaned_comment'] = df['cleaned_comment'].apply(lambda x: remove_stopwords(x, custom_stopwords))\n",
    "\n",
    "df\n"
   ]
  },
  {
   "cell_type": "code",
   "execution_count": null,
   "id": "7d04eabe",
   "metadata": {},
   "outputs": [],
   "source": [
    "# Function to remove words less than 2 characters\n",
    "def remove_short_words(text):\n",
    "    if isinstance(text, str):  # Ensure the input is valid text\n",
    "        return \" \".join([word for word in text.split() if len(word) > 2])  # Keep words longer than 1 character\n",
    "    return text  # Return as-is if the input is not text\n",
    "\n",
    "# Apply the function to the 'comment' column\n",
    "df['cleaned_comment'] = df['cleaned_comment'].apply(remove_short_words)\n",
    "\n",
    "df\n"
   ]
  },
  {
   "cell_type": "code",
   "execution_count": null,
   "id": "876cc37f",
   "metadata": {},
   "outputs": [],
   "source": [
    "df.to_csv(\"final_train_set_with_additional_preprocessing.csv\", index = False)"
   ]
  },
  {
   "cell_type": "code",
   "execution_count": null,
   "id": "5e0d0ea4",
   "metadata": {},
   "outputs": [],
   "source": [
    "df = pd.read_csv(\"final_test_set.csv\")\n",
    "df['cleaned_comment'] = df['comment'].apply(remove_bangla_punctuations)\n",
    "df['cleaned_comment'] = df['cleaned_comment'].apply(lambda x: remove_stopwords(x, custom_stopwords))\n",
    "df['cleaned_comment'] = df['cleaned_comment'].apply(remove_short_words)\n",
    "df.to_csv(\"final_test_set_with_additional_preprocessing.csv\", index = False)"
   ]
  }
 ],
 "metadata": {
  "kernelspec": {
   "display_name": "Python 3 (ipykernel)",
   "language": "python",
   "name": "python3"
  },
  "language_info": {
   "codemirror_mode": {
    "name": "ipython",
    "version": 3
   },
   "file_extension": ".py",
   "mimetype": "text/x-python",
   "name": "python",
   "nbconvert_exporter": "python",
   "pygments_lexer": "ipython3",
   "version": "3.10.9"
  }
 },
 "nbformat": 4,
 "nbformat_minor": 5
}
